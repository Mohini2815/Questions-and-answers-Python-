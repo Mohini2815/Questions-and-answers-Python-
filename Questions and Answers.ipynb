{
 "cells": [
  {
   "cell_type": "markdown",
   "id": "97179bc6-1144-44d9-8905-5e69860d8b7e",
   "metadata": {},
   "source": [
    "# Questions and answers"
   ]
  },
  {
   "cell_type": "markdown",
   "id": "ff92c44d-17b6-466a-b27b-c2f5f762bb23",
   "metadata": {},
   "source": [
    "1. What does list.append(item) do?\n",
    "\n",
    "**ans** : list.append(item) adds a single element to the end of the list "
   ]
  },
  {
   "cell_type": "code",
   "execution_count": 5,
   "id": "1ffa94dc-f16a-4753-9863-88fdd268e13c",
   "metadata": {},
   "outputs": [
    {
     "name": "stdout",
     "output_type": "stream",
     "text": [
      "[1, 2, 3, 4, 8]\n"
     ]
    }
   ],
   "source": [
    "l = [1,2,3,4]\n",
    "l.append(8)\n",
    "print(l)"
   ]
  },
  {
   "cell_type": "markdown",
   "id": "95428944-9c00-4bf1-b2d0-37e9bd663fd0",
   "metadata": {},
   "source": [
    "2. How is insert(index,item) different from append(item)?\n",
    "\n",
    "**ans** : \n",
    "- append(item) adds the item to the end of the list\n",
    "- insert(index,item) adds the item at the specified index, shifting all elements after that index to the right"
   ]
  },
  {
   "cell_type": "code",
   "execution_count": 9,
   "id": "6d277a1b-2a72-4fc5-a3b5-5d3a86f4de6d",
   "metadata": {},
   "outputs": [
    {
     "name": "stdout",
     "output_type": "stream",
     "text": [
      "[3, 4, 5, 6, 28]\n",
      "[3, 5, 4, 5, 6, 28]\n"
     ]
    }
   ],
   "source": [
    "l = [3,4,5,6]\n",
    "l.append(28)\n",
    "print(l)\n",
    "\n",
    "l.insert(1,5)\n",
    "print(l)"
   ]
  },
  {
   "cell_type": "markdown",
   "id": "f86a0c00-7c44-4512-9249-2f943e8c16cc",
   "metadata": {},
   "source": [
    "3. what is the difference between remove(item) and pop(index)?\n",
    "\n",
    "**ans**:\n",
    "1. **remove(item)**: removes first **occurrence** of the specified item from the list.\n",
    "2. **pop(index)**: removes and returns the item at the specified index."
   ]
  },
  {
   "cell_type": "code",
   "execution_count": 6,
   "id": "272ff3f8-4f75-47c1-9690-2618308d7454",
   "metadata": {},
   "outputs": [
    {
     "data": {
      "text/plain": [
       "[1, 3, 4, 5]"
      ]
     },
     "execution_count": 6,
     "metadata": {},
     "output_type": "execute_result"
    }
   ],
   "source": [
    "l = [1,2,3,4,5]\n",
    "l.remove(2)\n",
    "l"
   ]
  },
  {
   "cell_type": "code",
   "execution_count": 8,
   "id": "f2bafa94-ee6f-4968-a357-e259419c517e",
   "metadata": {},
   "outputs": [
    {
     "data": {
      "text/plain": [
       "5"
      ]
     },
     "execution_count": 8,
     "metadata": {},
     "output_type": "execute_result"
    }
   ],
   "source": [
    "l.pop()"
   ]
  },
  {
   "cell_type": "markdown",
   "id": "74498581-2815-4e7e-bea2-7aaf275aeac7",
   "metadata": {},
   "source": [
    "4. what does list.sort() do? can it sort strings\n",
    "\n",
    "**ans**: list.sort() sorts list in ascending order by default. It modifies original list and it can sort strings alphabetically."
   ]
  },
  {
   "cell_type": "code",
   "execution_count": 11,
   "id": "efeeabfc-8d75-4323-893b-7a2d14d5968e",
   "metadata": {},
   "outputs": [],
   "source": [
    "l = [4,3,5,6,1,2]\n",
    "l.sort()"
   ]
  },
  {
   "cell_type": "code",
   "execution_count": 13,
   "id": "a332b377-ab8f-4075-89f5-e43d7b6057c3",
   "metadata": {},
   "outputs": [
    {
     "data": {
      "text/plain": [
       "[1, 2, 3, 4, 5, 6]"
      ]
     },
     "execution_count": 13,
     "metadata": {},
     "output_type": "execute_result"
    }
   ],
   "source": [
    "l"
   ]
  },
  {
   "cell_type": "code",
   "execution_count": 15,
   "id": "b9ee2552-6a92-46d4-a94d-2d114fdacbab",
   "metadata": {},
   "outputs": [
    {
     "data": {
      "text/plain": [
       "['amoeba', 'banana', 'mohini', 'papaya']"
      ]
     },
     "execution_count": 15,
     "metadata": {},
     "output_type": "execute_result"
    }
   ],
   "source": [
    "l = ['mohini','amoeba','banana','papaya']\n",
    "l.sort()\n",
    "l"
   ]
  },
  {
   "cell_type": "markdown",
   "id": "57ef49e3-7f5f-4859-90d0-3972e3d34f37",
   "metadata": {},
   "source": [
    "5. How do you reverse a list ?\n",
    "\n",
    "**ans** : list.reverse() method reverses list **in-place**"
   ]
  },
  {
   "cell_type": "code",
   "execution_count": 18,
   "id": "546a88bd-8440-4108-bd94-49bf54491b63",
   "metadata": {},
   "outputs": [
    {
     "data": {
      "text/plain": [
       "[4, 3, 2, 1]"
      ]
     },
     "execution_count": 18,
     "metadata": {},
     "output_type": "execute_result"
    }
   ],
   "source": [
    "l = [1,2,3,4]\n",
    "l.reverse()\n",
    "l"
   ]
  },
  {
   "cell_type": "markdown",
   "id": "9c4e9f85-0d6a-4751-a034-a73bec8cae8c",
   "metadata": {},
   "source": [
    "6. How can you copy a list without affecting the original\n",
    "\n",
    "**ans** : \n",
    "1. using **copy()** method "
   ]
  },
  {
   "cell_type": "code",
   "execution_count": 24,
   "id": "43c21351-ed36-46c2-822c-4cc7cafaa7c5",
   "metadata": {},
   "outputs": [
    {
     "data": {
      "text/plain": [
       "[1, 2, 3, 4]"
      ]
     },
     "execution_count": 24,
     "metadata": {},
     "output_type": "execute_result"
    }
   ],
   "source": [
    "org_list = [1,2,3,4]\n",
    "new_list = org_list.copy()\n",
    "new_list.append(5)\n",
    "org_list\n",
    "#new_list"
   ]
  },
  {
   "cell_type": "code",
   "execution_count": 26,
   "id": "c70b2696-5822-47f2-8eb6-11672da29f89",
   "metadata": {},
   "outputs": [
    {
     "data": {
      "text/plain": [
       "[1, 2, 3, 4, 5]"
      ]
     },
     "execution_count": 26,
     "metadata": {},
     "output_type": "execute_result"
    }
   ],
   "source": [
    "new_list"
   ]
  },
  {
   "cell_type": "markdown",
   "id": "d3b5154f-21be-4e00-a743-a52fe76afcd8",
   "metadata": {},
   "source": [
    "7. How do you find the index of an item in a list\n",
    "\n",
    "**ans** : you can find the index of an item in a list using **index()** method"
   ]
  },
  {
   "cell_type": "code",
   "execution_count": 29,
   "id": "ad6766f6-fa02-4c3c-b203-40c9838225a4",
   "metadata": {},
   "outputs": [
    {
     "data": {
      "text/plain": [
       "0"
      ]
     },
     "execution_count": 29,
     "metadata": {},
     "output_type": "execute_result"
    }
   ],
   "source": [
    "l = [56,43,12,34]\n",
    "index = l.index(56)\n",
    "index"
   ]
  },
  {
   "cell_type": "markdown",
   "id": "051f7dee-a8ab-4159-9cbc-f63938d3a64d",
   "metadata": {},
   "source": [
    "8. what is list in python ? how it is different from arrays in other languages ?\n",
    "\n",
    "**ans** : A list in python is a dynamic, ordered collection of elements that can be of any data type, including strings,floats, and other lists\n",
    "- differences from arrays in other languages:\n",
    "1. **dynamic size** : python list do not have a fixed size.\n",
    "2. **Heterogeneous elements** : list can contain elements of different data types.\n",
    "3. **built-in methods** : list have many built-in methods"
   ]
  },
  {
   "cell_type": "markdown",
   "id": "2cfff0a8-2a25-4cc1-8fc2-114faa0fd0c5",
   "metadata": {},
   "source": [
    "9. How can you create a list ?\n",
    "\n",
    "**ans** : list can create by using **square brackets []**"
   ]
  },
  {
   "cell_type": "code",
   "execution_count": 35,
   "id": "187c3b78-2d53-4603-bdc1-11da3b30bba8",
   "metadata": {},
   "outputs": [
    {
     "name": "stdout",
     "output_type": "stream",
     "text": [
      "[1, 2, 3, 4, 5]\n"
     ]
    }
   ],
   "source": [
    "l = [1,2,3,4,5] # list created\n",
    "print(l)"
   ]
  },
  {
   "cell_type": "markdown",
   "id": "1b30f8df-1dcc-43e7-9109-d48d045fc406",
   "metadata": {},
   "source": [
    "10. Is list mutable or immutable.\n",
    "\n",
    "**ans** : list is mutable means you can modify it after creation."
   ]
  },
  {
   "cell_type": "code",
   "execution_count": 42,
   "id": "1e8d7d17-b544-4abd-bbb6-817823d371a3",
   "metadata": {},
   "outputs": [
    {
     "name": "stdout",
     "output_type": "stream",
     "text": [
      "[1, 2, 3, 4, 5, 28, 28]\n"
     ]
    }
   ],
   "source": [
    "l.append(28)\n",
    "print(l)"
   ]
  },
  {
   "cell_type": "markdown",
   "id": "2a6ae230-7e73-48e2-8122-c7a94683466e",
   "metadata": {},
   "source": [
    "11.  What set in python ?\n",
    "\n",
    "**ans** : A set in python is an unordered, mutable collection of unique.\n",
    "- you can create set using **curly brackets**\n"
   ]
  },
  {
   "cell_type": "code",
   "execution_count": 47,
   "id": "810b3e9f-0adf-44b5-a8a4-9b1726788947",
   "metadata": {},
   "outputs": [
    {
     "name": "stdout",
     "output_type": "stream",
     "text": [
      "{1, 2, 3, 4}\n"
     ]
    }
   ],
   "source": [
    "s = {1,2,3,4}\n",
    "print(s)"
   ]
  },
  {
   "cell_type": "markdown",
   "id": "8f4089ce-2c95-458a-92dd-14fe878fe93c",
   "metadata": {},
   "source": [
    "12. How are sets different from lists\n",
    "\n",
    "**ans** : \n",
    "- lists maintain the order of elements while sets are unordered\n",
    "- sets only store unique elements while lists can have duplicates.\n",
    "- lists are indexable while sets are not\n"
   ]
  },
  {
   "cell_type": "markdown",
   "id": "d1eca073-4d06-4c34-9d61-2a0aad5a559f",
   "metadata": {},
   "source": [
    "13. Are sets ordered or unordered\n",
    "\n",
    "**ans** - sets are unordered."
   ]
  },
  {
   "cell_type": "markdown",
   "id": "fdc2b7c3-41af-41f5-9600-8884b78475f1",
   "metadata": {},
   "source": [
    "14. What does set.add(item) do ?\n",
    "\n",
    "**ans** : set.add(item) adds a single element to the set."
   ]
  },
  {
   "cell_type": "code",
   "execution_count": 52,
   "id": "d6893a94-bd4e-4f26-bc73-5fb6388a3ba7",
   "metadata": {},
   "outputs": [
    {
     "name": "stdout",
     "output_type": "stream",
     "text": [
      "{1, 2, 3, 4, 21}\n"
     ]
    }
   ],
   "source": [
    "s.add(21)\n",
    "print(s)"
   ]
  },
  {
   "cell_type": "markdown",
   "id": "fd8ac6e1-c6ba-414d-8740-214226328b5e",
   "metadata": {},
   "source": [
    "15. what is the difference between discard(item) and remove(item) ?\n",
    "\n",
    "**ans** :\n",
    "- **discard(item)** - removes the specified item from the set if it exists.\n",
    "- **remove(item)** - removes the specified item from the set if it exists."
   ]
  },
  {
   "cell_type": "code",
   "execution_count": 55,
   "id": "6ac6fd5a-08fd-4a0a-b4a8-3c33af3b08dd",
   "metadata": {},
   "outputs": [],
   "source": [
    "s.discard(1)"
   ]
  },
  {
   "cell_type": "code",
   "execution_count": 57,
   "id": "b75067a5-dcc4-4056-b0b3-7bf370dbba99",
   "metadata": {},
   "outputs": [
    {
     "data": {
      "text/plain": [
       "{2, 3, 4, 21}"
      ]
     },
     "execution_count": 57,
     "metadata": {},
     "output_type": "execute_result"
    }
   ],
   "source": [
    "s"
   ]
  },
  {
   "cell_type": "code",
   "execution_count": 59,
   "id": "bf03e270-91fc-4112-aa9a-b75b28da9d2a",
   "metadata": {},
   "outputs": [
    {
     "name": "stdout",
     "output_type": "stream",
     "text": [
      "{2, 3, 4}\n"
     ]
    }
   ],
   "source": [
    "s.remove(21)\n",
    "print(s)"
   ]
  },
  {
   "cell_type": "markdown",
   "id": "ed25b811-fa2d-4a54-8f1e-2e9bc860985c",
   "metadata": {},
   "source": [
    "16. How do you find union of two sets.\n",
    "\n",
    "**ans** : using **union()** method **set1.union(set2)**"
   ]
  },
  {
   "cell_type": "code",
   "execution_count": 68,
   "id": "43696a60-0ecc-49e0-825e-a020e264d068",
   "metadata": {},
   "outputs": [
    {
     "data": {
      "text/plain": [
       "{1, 2, 11, 21, 32, 34, 45, 65}"
      ]
     },
     "execution_count": 68,
     "metadata": {},
     "output_type": "execute_result"
    }
   ],
   "source": [
    "s1 = {11,21,1,32,2,1}\n",
    "s2 = {45,21,11,34,65}\n",
    "s1.union(s2)"
   ]
  },
  {
   "cell_type": "markdown",
   "id": "dba83545-997c-4bd4-acd7-f7819be47c12",
   "metadata": {},
   "source": [
    "17. What does intersection() do ?\n",
    "\n",
    "**ans** : intersection() returns a new set containing only the elements that are common to both sets."
   ]
  },
  {
   "cell_type": "code",
   "execution_count": 66,
   "id": "dd734f61-434b-41fd-97ad-cb31d3056749",
   "metadata": {},
   "outputs": [
    {
     "data": {
      "text/plain": [
       "{11, 21}"
      ]
     },
     "execution_count": 66,
     "metadata": {},
     "output_type": "execute_result"
    }
   ],
   "source": [
    "s1.intersection(s2)"
   ]
  },
  {
   "cell_type": "markdown",
   "id": "ef22c992-7cd6-4f46-a682-58df8da67121",
   "metadata": {},
   "source": [
    "18. How do you remove all elements from a set ?\n",
    "\n",
    "**ans** : using **clear()** method"
   ]
  },
  {
   "cell_type": "code",
   "execution_count": 73,
   "id": "ad48d2c8-ad20-4383-88ce-f78edc9bd694",
   "metadata": {},
   "outputs": [
    {
     "name": "stdout",
     "output_type": "stream",
     "text": [
      "{2, 3, 4}\n"
     ]
    }
   ],
   "source": [
    "print(s)"
   ]
  },
  {
   "cell_type": "code",
   "execution_count": 75,
   "id": "456d07e1-c678-4944-a95c-89cfbe57c1e2",
   "metadata": {},
   "outputs": [],
   "source": [
    "s.clear()"
   ]
  },
  {
   "cell_type": "code",
   "execution_count": 77,
   "id": "0ec77310-e72f-4822-80d5-b58d51b6d38c",
   "metadata": {},
   "outputs": [
    {
     "data": {
      "text/plain": [
       "set()"
      ]
     },
     "execution_count": 77,
     "metadata": {},
     "output_type": "execute_result"
    }
   ],
   "source": [
    "s"
   ]
  },
  {
   "cell_type": "markdown",
   "id": "91f42ad5-6465-4e00-afef-9b5e9c67dcae",
   "metadata": {},
   "source": [
    "19. What is tuple ? how it is different from a list ?\n",
    "\n",
    "**ans** : a tuple is immutable, ordered collection of elements."
   ]
  },
  {
   "cell_type": "code",
   "execution_count": 80,
   "id": "04464838-df3d-4d92-979d-2af9780fd8ff",
   "metadata": {},
   "outputs": [
    {
     "data": {
      "text/plain": [
       "(1, 2, 3)"
      ]
     },
     "execution_count": 80,
     "metadata": {},
     "output_type": "execute_result"
    }
   ],
   "source": [
    "t = (1,2,3)\n",
    "t"
   ]
  },
  {
   "cell_type": "markdown",
   "id": "afc06ff0-3397-481f-9685-600ee4c0f722",
   "metadata": {},
   "source": [
    "20. How do you check if a set is a subset or superset()\n",
    "\n",
    "**ans** : using **issubset()** method and **issuperset()** method"
   ]
  },
  {
   "cell_type": "code",
   "execution_count": 83,
   "id": "70a67045-66bf-436b-ada8-9051603a6509",
   "metadata": {},
   "outputs": [
    {
     "name": "stdout",
     "output_type": "stream",
     "text": [
      "False\n"
     ]
    }
   ],
   "source": [
    "print(s1.issubset(s2)) # subset\n"
   ]
  },
  {
   "cell_type": "code",
   "execution_count": 85,
   "id": "ea778d72-169c-4bfe-97b4-0727ff1ca0bc",
   "metadata": {},
   "outputs": [
    {
     "name": "stdout",
     "output_type": "stream",
     "text": [
      "False\n"
     ]
    }
   ],
   "source": [
    "print(s1.issuperset(s2)) # superset"
   ]
  },
  {
   "cell_type": "markdown",
   "id": "d056e87a-cbc2-4f89-a28d-f4ac61687dce",
   "metadata": {},
   "source": [
    "21. what is the use of difference() method ?\n",
    "\n",
    "**ans** : the difference() method returns a new set containing elements that are present in the first set but not in the second set."
   ]
  },
  {
   "cell_type": "code",
   "execution_count": 88,
   "id": "d4b46515-1dc6-43e3-8757-e0037523d8c2",
   "metadata": {},
   "outputs": [
    {
     "data": {
      "text/plain": [
       "{12, 21, 43}"
      ]
     },
     "execution_count": 88,
     "metadata": {},
     "output_type": "execute_result"
    }
   ],
   "source": [
    "s1 = {11,21,12,43}\n",
    "s2 = {11,32,54}\n",
    "diff = s1.difference(s2)\n",
    "diff"
   ]
  },
  {
   "cell_type": "markdown",
   "id": "2c36f694-d69a-46f5-96fe-5a60b470ebec",
   "metadata": {},
   "source": [
    "22. Are tuples mutable or immutable ?\n",
    "\n",
    "**ans** : tuples are immutable"
   ]
  },
  {
   "cell_type": "markdown",
   "id": "2fd7de9f-f4d3-4640-8789-bedac466ca87",
   "metadata": {},
   "source": [
    "23. When would you use a tuple instead of a list ?\n",
    "\n",
    "**ans** : \n",
    "- when would"
   ]
  }
 ],
 "metadata": {
  "kernelspec": {
   "display_name": "Python 3 (ipykernel)",
   "language": "python",
   "name": "python3"
  },
  "language_info": {
   "codemirror_mode": {
    "name": "ipython",
    "version": 3
   },
   "file_extension": ".py",
   "mimetype": "text/x-python",
   "name": "python",
   "nbconvert_exporter": "python",
   "pygments_lexer": "ipython3",
   "version": "3.12.4"
  }
 },
 "nbformat": 4,
 "nbformat_minor": 5
}
