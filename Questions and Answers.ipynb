{
 "cells": [
  {
   "cell_type": "markdown",
   "id": "97179bc6-1144-44d9-8905-5e69860d8b7e",
   "metadata": {},
   "source": [
    "# Questions and answers"
   ]
  },
  {
   "cell_type": "markdown",
   "id": "ff92c44d-17b6-466a-b27b-c2f5f762bb23",
   "metadata": {},
   "source": [
    "1. What does list.append(item) do?\n",
    "\n",
    "**ans** : list.append(item) adds a single element to the end of the list "
   ]
  },
  {
   "cell_type": "code",
   "execution_count": 5,
   "id": "1ffa94dc-f16a-4753-9863-88fdd268e13c",
   "metadata": {},
   "outputs": [
    {
     "name": "stdout",
     "output_type": "stream",
     "text": [
      "[1, 2, 3, 4, 8]\n"
     ]
    }
   ],
   "source": [
    "l = [1,2,3,4]\n",
    "l.append(8)\n",
    "print(l)"
   ]
  },
  {
   "cell_type": "markdown",
   "id": "95428944-9c00-4bf1-b2d0-37e9bd663fd0",
   "metadata": {},
   "source": [
    "2. How is insert(index,item) different from append(item)?\n",
    "\n",
    "**ans** : \n",
    "- append(item) adds the item to the end of the list\n",
    "- insert(index,item) adds the item at the specified index, shifting all elements after that index to the right"
   ]
  },
  {
   "cell_type": "code",
   "execution_count": 9,
   "id": "6d277a1b-2a72-4fc5-a3b5-5d3a86f4de6d",
   "metadata": {},
   "outputs": [
    {
     "name": "stdout",
     "output_type": "stream",
     "text": [
      "[3, 4, 5, 6, 28]\n",
      "[3, 5, 4, 5, 6, 28]\n"
     ]
    }
   ],
   "source": [
    "l = [3,4,5,6]\n",
    "l.append(28)\n",
    "print(l)\n",
    "\n",
    "l.insert(1,5)\n",
    "print(l)"
   ]
  },
  {
   "cell_type": "markdown",
   "id": "f86a0c00-7c44-4512-9249-2f943e8c16cc",
   "metadata": {},
   "source": [
    "3. what is the difference between remove(item) and pop(index)?\n",
    "\n",
    "**ans**:\n",
    "1. **remove(item)**: removes first **occurrence** of the specified item from the list.\n",
    "2. **pop(index)**: removes and returns the item at the specified index."
   ]
  },
  {
   "cell_type": "code",
   "execution_count": 6,
   "id": "272ff3f8-4f75-47c1-9690-2618308d7454",
   "metadata": {},
   "outputs": [
    {
     "data": {
      "text/plain": [
       "[1, 3, 4, 5]"
      ]
     },
     "execution_count": 6,
     "metadata": {},
     "output_type": "execute_result"
    }
   ],
   "source": [
    "l = [1,2,3,4,5]\n",
    "l.remove(2)\n",
    "l"
   ]
  },
  {
   "cell_type": "code",
   "execution_count": 8,
   "id": "f2bafa94-ee6f-4968-a357-e259419c517e",
   "metadata": {},
   "outputs": [
    {
     "data": {
      "text/plain": [
       "5"
      ]
     },
     "execution_count": 8,
     "metadata": {},
     "output_type": "execute_result"
    }
   ],
   "source": [
    "l.pop()"
   ]
  },
  {
   "cell_type": "markdown",
   "id": "74498581-2815-4e7e-bea2-7aaf275aeac7",
   "metadata": {},
   "source": [
    "4. what does list.sort() do? can it sort strings\n",
    "\n",
    "**ans**: list.sort() sorts list in ascending order by default. It modifies original list and it can sort strings alphabetically."
   ]
  },
  {
   "cell_type": "code",
   "execution_count": 11,
   "id": "efeeabfc-8d75-4323-893b-7a2d14d5968e",
   "metadata": {},
   "outputs": [],
   "source": [
    "l = [4,3,5,6,1,2]\n",
    "l.sort()"
   ]
  },
  {
   "cell_type": "code",
   "execution_count": 13,
   "id": "a332b377-ab8f-4075-89f5-e43d7b6057c3",
   "metadata": {},
   "outputs": [
    {
     "data": {
      "text/plain": [
       "[1, 2, 3, 4, 5, 6]"
      ]
     },
     "execution_count": 13,
     "metadata": {},
     "output_type": "execute_result"
    }
   ],
   "source": [
    "l"
   ]
  },
  {
   "cell_type": "code",
   "execution_count": 15,
   "id": "b9ee2552-6a92-46d4-a94d-2d114fdacbab",
   "metadata": {},
   "outputs": [
    {
     "data": {
      "text/plain": [
       "['amoeba', 'banana', 'mohini', 'papaya']"
      ]
     },
     "execution_count": 15,
     "metadata": {},
     "output_type": "execute_result"
    }
   ],
   "source": [
    "l = ['mohini','amoeba','banana','papaya']\n",
    "l.sort()\n",
    "l"
   ]
  },
  {
   "cell_type": "markdown",
   "id": "57ef49e3-7f5f-4859-90d0-3972e3d34f37",
   "metadata": {},
   "source": [
    "5. How do you reverse a list ?\n",
    "\n",
    "**ans** : list.reverse() method reverses list **in-place**"
   ]
  },
  {
   "cell_type": "code",
   "execution_count": 18,
   "id": "546a88bd-8440-4108-bd94-49bf54491b63",
   "metadata": {},
   "outputs": [
    {
     "data": {
      "text/plain": [
       "[4, 3, 2, 1]"
      ]
     },
     "execution_count": 18,
     "metadata": {},
     "output_type": "execute_result"
    }
   ],
   "source": [
    "l = [1,2,3,4]\n",
    "l.reverse()\n",
    "l"
   ]
  },
  {
   "cell_type": "markdown",
   "id": "9c4e9f85-0d6a-4751-a034-a73bec8cae8c",
   "metadata": {},
   "source": [
    "6. How can you copy a list without affecting the original\n",
    "\n",
    "**ans** : \n",
    "1. using **copy()** method "
   ]
  },
  {
   "cell_type": "code",
   "execution_count": 24,
   "id": "43c21351-ed36-46c2-822c-4cc7cafaa7c5",
   "metadata": {},
   "outputs": [
    {
     "data": {
      "text/plain": [
       "[1, 2, 3, 4]"
      ]
     },
     "execution_count": 24,
     "metadata": {},
     "output_type": "execute_result"
    }
   ],
   "source": [
    "org_list = [1,2,3,4]\n",
    "new_list = org_list.copy()\n",
    "new_list.append(5)\n",
    "org_list\n",
    "#new_list"
   ]
  },
  {
   "cell_type": "code",
   "execution_count": 26,
   "id": "c70b2696-5822-47f2-8eb6-11672da29f89",
   "metadata": {},
   "outputs": [
    {
     "data": {
      "text/plain": [
       "[1, 2, 3, 4, 5]"
      ]
     },
     "execution_count": 26,
     "metadata": {},
     "output_type": "execute_result"
    }
   ],
   "source": [
    "new_list"
   ]
  },
  {
   "cell_type": "markdown",
   "id": "d3b5154f-21be-4e00-a743-a52fe76afcd8",
   "metadata": {},
   "source": [
    "7. How do you find the index of an item in a list\n",
    "\n",
    "**ans** : you can find the index of an item in a list using **index()** method"
   ]
  },
  {
   "cell_type": "code",
   "execution_count": 29,
   "id": "ad6766f6-fa02-4c3c-b203-40c9838225a4",
   "metadata": {},
   "outputs": [
    {
     "data": {
      "text/plain": [
       "0"
      ]
     },
     "execution_count": 29,
     "metadata": {},
     "output_type": "execute_result"
    }
   ],
   "source": [
    "l = [56,43,12,34]\n",
    "index = l.index(56)\n",
    "index"
   ]
  },
  {
   "cell_type": "markdown",
   "id": "051f7dee-a8ab-4159-9cbc-f63938d3a64d",
   "metadata": {},
   "source": [
    "8. what is list in python ? how it is different from arrays in other languages ?\n",
    "\n",
    "**ans** : A list in python is a dynamic, ordered collection of elements that can be of any data type, including strings,floats, and other lists\n",
    "- differences from arrays in other languages:\n",
    "1. **dynamic size** : python list do not have a fixed size.\n",
    "2. **Heterogeneous elements** : list can contain elements of different data types.\n",
    "3. **built-in methods** : list have many built-in methods"
   ]
  },
  {
   "cell_type": "markdown",
   "id": "2cfff0a8-2a25-4cc1-8fc2-114faa0fd0c5",
   "metadata": {},
   "source": [
    "9. How can you create a list ?\n",
    "\n",
    "**ans** : list can create by using **square brackets []**"
   ]
  },
  {
   "cell_type": "code",
   "execution_count": 35,
   "id": "187c3b78-2d53-4603-bdc1-11da3b30bba8",
   "metadata": {},
   "outputs": [
    {
     "name": "stdout",
     "output_type": "stream",
     "text": [
      "[1, 2, 3, 4, 5]\n"
     ]
    }
   ],
   "source": [
    "l = [1,2,3,4,5] # list created\n",
    "print(l)"
   ]
  },
  {
   "cell_type": "markdown",
   "id": "1b30f8df-1dcc-43e7-9109-d48d045fc406",
   "metadata": {},
   "source": [
    "10. Is list mutable or immutable.\n",
    "\n",
    "**ans** : list is mutable means you can modify it after creation."
   ]
  },
  {
   "cell_type": "code",
   "execution_count": 42,
   "id": "1e8d7d17-b544-4abd-bbb6-817823d371a3",
   "metadata": {},
   "outputs": [
    {
     "name": "stdout",
     "output_type": "stream",
     "text": [
      "[1, 2, 3, 4, 5, 28, 28]\n"
     ]
    }
   ],
   "source": [
    "l.append(28)\n",
    "print(l)"
   ]
  },
  {
   "cell_type": "markdown",
   "id": "2a6ae230-7e73-48e2-8122-c7a94683466e",
   "metadata": {},
   "source": [
    "11.  What set in python ?\n",
    "\n",
    "**ans** : A set in python is an unordered, mutable collection of unique.\n",
    "- you can create set using **curly brackets**\n"
   ]
  },
  {
   "cell_type": "code",
   "execution_count": 47,
   "id": "810b3e9f-0adf-44b5-a8a4-9b1726788947",
   "metadata": {},
   "outputs": [
    {
     "name": "stdout",
     "output_type": "stream",
     "text": [
      "{1, 2, 3, 4}\n"
     ]
    }
   ],
   "source": [
    "s = {1,2,3,4}\n",
    "print(s)"
   ]
  },
  {
   "cell_type": "markdown",
   "id": "8f4089ce-2c95-458a-92dd-14fe878fe93c",
   "metadata": {},
   "source": [
    "12. How are sets different from lists\n",
    "\n",
    "**ans** : \n",
    "- lists maintain the order of elements while sets are unordered\n",
    "- sets only store unique elements while lists can have duplicates.\n",
    "- lists are indexable while sets are not\n"
   ]
  },
  {
   "cell_type": "markdown",
   "id": "d1eca073-4d06-4c34-9d61-2a0aad5a559f",
   "metadata": {},
   "source": [
    "13. Are sets ordered or unordered\n",
    "\n",
    "**ans** - sets are unordered."
   ]
  },
  {
   "cell_type": "markdown",
   "id": "fdc2b7c3-41af-41f5-9600-8884b78475f1",
   "metadata": {},
   "source": [
    "14. What does set.add(item) do ?\n",
    "\n",
    "**ans** : set.add(item) adds a single element to the set."
   ]
  },
  {
   "cell_type": "code",
   "execution_count": 52,
   "id": "d6893a94-bd4e-4f26-bc73-5fb6388a3ba7",
   "metadata": {},
   "outputs": [
    {
     "name": "stdout",
     "output_type": "stream",
     "text": [
      "{1, 2, 3, 4, 21}\n"
     ]
    }
   ],
   "source": [
    "s.add(21)\n",
    "print(s)"
   ]
  },
  {
   "cell_type": "markdown",
   "id": "fd8ac6e1-c6ba-414d-8740-214226328b5e",
   "metadata": {},
   "source": [
    "15. what is the difference between discard(item) and remove(item) ?\n",
    "\n",
    "**ans** :\n",
    "- **discard(item)** - removes the specified item from the set if it exists.\n",
    "- **remove(item)** - removes the specified item from the set if it exists."
   ]
  },
  {
   "cell_type": "code",
   "execution_count": 55,
   "id": "6ac6fd5a-08fd-4a0a-b4a8-3c33af3b08dd",
   "metadata": {},
   "outputs": [],
   "source": [
    "s.discard(1)"
   ]
  },
  {
   "cell_type": "code",
   "execution_count": 57,
   "id": "b75067a5-dcc4-4056-b0b3-7bf370dbba99",
   "metadata": {},
   "outputs": [
    {
     "data": {
      "text/plain": [
       "{2, 3, 4, 21}"
      ]
     },
     "execution_count": 57,
     "metadata": {},
     "output_type": "execute_result"
    }
   ],
   "source": [
    "s"
   ]
  },
  {
   "cell_type": "code",
   "execution_count": 59,
   "id": "bf03e270-91fc-4112-aa9a-b75b28da9d2a",
   "metadata": {},
   "outputs": [
    {
     "name": "stdout",
     "output_type": "stream",
     "text": [
      "{2, 3, 4}\n"
     ]
    }
   ],
   "source": [
    "s.remove(21)\n",
    "print(s)"
   ]
  },
  {
   "cell_type": "markdown",
   "id": "ed25b811-fa2d-4a54-8f1e-2e9bc860985c",
   "metadata": {},
   "source": [
    "16. How do you find union of two sets.\n",
    "\n",
    "**ans** : using **union()** method **set1.union(set2)**"
   ]
  },
  {
   "cell_type": "code",
   "execution_count": 68,
   "id": "43696a60-0ecc-49e0-825e-a020e264d068",
   "metadata": {},
   "outputs": [
    {
     "data": {
      "text/plain": [
       "{1, 2, 11, 21, 32, 34, 45, 65}"
      ]
     },
     "execution_count": 68,
     "metadata": {},
     "output_type": "execute_result"
    }
   ],
   "source": [
    "s1 = {11,21,1,32,2,1}\n",
    "s2 = {45,21,11,34,65}\n",
    "s1.union(s2)"
   ]
  },
  {
   "cell_type": "markdown",
   "id": "dba83545-997c-4bd4-acd7-f7819be47c12",
   "metadata": {},
   "source": [
    "17. What does intersection() do ?\n",
    "\n",
    "**ans** : intersection() returns a new set containing only the elements that are common to both sets."
   ]
  },
  {
   "cell_type": "code",
   "execution_count": 66,
   "id": "dd734f61-434b-41fd-97ad-cb31d3056749",
   "metadata": {},
   "outputs": [
    {
     "data": {
      "text/plain": [
       "{11, 21}"
      ]
     },
     "execution_count": 66,
     "metadata": {},
     "output_type": "execute_result"
    }
   ],
   "source": [
    "s1.intersection(s2)"
   ]
  },
  {
   "cell_type": "markdown",
   "id": "ef22c992-7cd6-4f46-a682-58df8da67121",
   "metadata": {},
   "source": [
    "18. How do you remove all elements from a set ?\n",
    "\n",
    "**ans** : using **clear()** method"
   ]
  },
  {
   "cell_type": "code",
   "execution_count": 73,
   "id": "ad48d2c8-ad20-4383-88ce-f78edc9bd694",
   "metadata": {},
   "outputs": [
    {
     "name": "stdout",
     "output_type": "stream",
     "text": [
      "{2, 3, 4}\n"
     ]
    }
   ],
   "source": [
    "print(s)"
   ]
  },
  {
   "cell_type": "code",
   "execution_count": 75,
   "id": "456d07e1-c678-4944-a95c-89cfbe57c1e2",
   "metadata": {},
   "outputs": [],
   "source": [
    "s.clear()"
   ]
  },
  {
   "cell_type": "code",
   "execution_count": 77,
   "id": "0ec77310-e72f-4822-80d5-b58d51b6d38c",
   "metadata": {},
   "outputs": [
    {
     "data": {
      "text/plain": [
       "set()"
      ]
     },
     "execution_count": 77,
     "metadata": {},
     "output_type": "execute_result"
    }
   ],
   "source": [
    "s"
   ]
  },
  {
   "cell_type": "markdown",
   "id": "91f42ad5-6465-4e00-afef-9b5e9c67dcae",
   "metadata": {},
   "source": [
    "19. What is tuple ? how it is different from a list ?\n",
    "\n",
    "**ans** : a tuple is immutable, ordered collection of elements."
   ]
  },
  {
   "cell_type": "code",
   "execution_count": 80,
   "id": "04464838-df3d-4d92-979d-2af9780fd8ff",
   "metadata": {},
   "outputs": [
    {
     "data": {
      "text/plain": [
       "(1, 2, 3)"
      ]
     },
     "execution_count": 80,
     "metadata": {},
     "output_type": "execute_result"
    }
   ],
   "source": [
    "t = (1,2,3)\n",
    "t"
   ]
  },
  {
   "cell_type": "markdown",
   "id": "afc06ff0-3397-481f-9685-600ee4c0f722",
   "metadata": {},
   "source": [
    "20. How do you check if a set is a subset or superset()\n",
    "\n",
    "**ans** : using **issubset()** method and **issuperset()** method"
   ]
  },
  {
   "cell_type": "code",
   "execution_count": 83,
   "id": "70a67045-66bf-436b-ada8-9051603a6509",
   "metadata": {},
   "outputs": [
    {
     "name": "stdout",
     "output_type": "stream",
     "text": [
      "False\n"
     ]
    }
   ],
   "source": [
    "print(s1.issubset(s2)) # subset\n"
   ]
  },
  {
   "cell_type": "code",
   "execution_count": 85,
   "id": "ea778d72-169c-4bfe-97b4-0727ff1ca0bc",
   "metadata": {},
   "outputs": [
    {
     "name": "stdout",
     "output_type": "stream",
     "text": [
      "False\n"
     ]
    }
   ],
   "source": [
    "print(s1.issuperset(s2)) # superset"
   ]
  },
  {
   "cell_type": "markdown",
   "id": "d056e87a-cbc2-4f89-a28d-f4ac61687dce",
   "metadata": {},
   "source": [
    "21. what is the use of difference() method ?\n",
    "\n",
    "**ans** : the difference() method returns a new set containing elements that are present in the first set but not in the second set."
   ]
  },
  {
   "cell_type": "code",
   "execution_count": 88,
   "id": "d4b46515-1dc6-43e3-8757-e0037523d8c2",
   "metadata": {},
   "outputs": [
    {
     "data": {
      "text/plain": [
       "{12, 21, 43}"
      ]
     },
     "execution_count": 88,
     "metadata": {},
     "output_type": "execute_result"
    }
   ],
   "source": [
    "s1 = {11,21,12,43}\n",
    "s2 = {11,32,54}\n",
    "diff = s1.difference(s2)\n",
    "diff"
   ]
  },
  {
   "cell_type": "markdown",
   "id": "2c36f694-d69a-46f5-96fe-5a60b470ebec",
   "metadata": {},
   "source": [
    "22. Are tuples mutable or immutable ?\n",
    "\n",
    "**ans** : tuples are immutable"
   ]
  },
  {
   "cell_type": "markdown",
   "id": "2fd7de9f-f4d3-4640-8789-bedac466ca87",
   "metadata": {},
   "source": [
    "23. When would you use a tuple instead of a list ?\n",
    "\n",
    "**ans** : \n",
    "- when **immutability** is required\n",
    "- data integrity is crucial\n",
    "- faster performance is needed\n",
    "- dictionary keys are required\n",
    "- constant data is needed"
   ]
  },
  {
   "cell_type": "markdown",
   "id": "52e4cb47-7171-4f7e-953d-9ef0f13208ff",
   "metadata": {},
   "source": [
    "24. what does tuple.index(item) do?\n",
    "\n",
    "**ans** : this method returns the index of the first occurence of the specified item in the tuple\n"
   ]
  },
  {
   "cell_type": "code",
   "execution_count": 3,
   "id": "e4cbec95-63a8-46ac-b148-f80867780b34",
   "metadata": {},
   "outputs": [
    {
     "data": {
      "text/plain": [
       "2"
      ]
     },
     "execution_count": 3,
     "metadata": {},
     "output_type": "execute_result"
    }
   ],
   "source": [
    "t = (1,2,3,4)\n",
    "t.index(3)"
   ]
  },
  {
   "cell_type": "markdown",
   "id": "aa07adb3-5d33-4bd9-a8f3-5afcbdb5a5ea",
   "metadata": {},
   "source": [
    "25. what does tuple.count(item) return?\n",
    "\n",
    "**ans** : returns number of occurences of the specified item in the tuple"
   ]
  },
  {
   "cell_type": "code",
   "execution_count": 6,
   "id": "cbeaac9c-aa2d-4b41-b06e-a5ba112ca0ec",
   "metadata": {},
   "outputs": [
    {
     "data": {
      "text/plain": [
       "1"
      ]
     },
     "execution_count": 6,
     "metadata": {},
     "output_type": "execute_result"
    }
   ],
   "source": [
    "t.count(1)"
   ]
  },
  {
   "cell_type": "markdown",
   "id": "93c49014-b2e5-4bd0-9849-a6e9e9fa650a",
   "metadata": {},
   "source": [
    "26. how can you convert list to tuple ?\n",
    "\n",
    "**ans** : using **tuple()** function"
   ]
  },
  {
   "cell_type": "code",
   "execution_count": 9,
   "id": "3316dd98-e8d9-4842-9ac2-ae3771be7148",
   "metadata": {},
   "outputs": [
    {
     "data": {
      "text/plain": [
       "(1, 2, 3, 4)"
      ]
     },
     "execution_count": 9,
     "metadata": {},
     "output_type": "execute_result"
    }
   ],
   "source": [
    "l = [1,2,3,4]\n",
    "t1 = tuple(l)\n",
    "t1"
   ]
  },
  {
   "cell_type": "markdown",
   "id": "ad2cbcc9-a767-4fcc-a279-a93fb394a279",
   "metadata": {},
   "source": [
    "27. can you remove items from a tuple ? why or why not?\n",
    "\n",
    "**ans** - you cannot remove items from a tuple because tuple are **immutable** means contents cannot be modified after creation"
   ]
  },
  {
   "cell_type": "markdown",
   "id": "d2eb43d2-3aa8-4ad6-a4ba-8dfa62028587",
   "metadata": {},
   "source": [
    "28. how do you unpack a tuple into variables ?\n",
    "\n"
   ]
  },
  {
   "cell_type": "code",
   "execution_count": 4,
   "id": "af83943d-ebad-4eb5-a592-d764ed7a25d8",
   "metadata": {},
   "outputs": [
    {
     "name": "stdout",
     "output_type": "stream",
     "text": [
      "28\n",
      "10\n",
      "2003\n"
     ]
    }
   ],
   "source": [
    "t = (28,10,2003)\n",
    "a, b, c = t\n",
    "print(a)\n",
    "print(b)\n",
    "print(c)"
   ]
  },
  {
   "cell_type": "markdown",
   "id": "b5f8e87c-135c-4804-950b-327d22095b9d",
   "metadata": {},
   "source": [
    "29. how can you loop through a tuple ?\n",
    "\n",
    "**ans** - using for loop"
   ]
  },
  {
   "cell_type": "code",
   "execution_count": 10,
   "id": "4def5f13-ee43-484f-a334-c2874c2730de",
   "metadata": {},
   "outputs": [
    {
     "name": "stdout",
     "output_type": "stream",
     "text": [
      "12\n",
      "43\n",
      "11\n"
     ]
    }
   ],
   "source": [
    "t = (12,43,11)\n",
    "for item in t:\n",
    "    print(item)"
   ]
  },
  {
   "cell_type": "markdown",
   "id": "9ebd2e87-ad36-4d33-8893-50f766eb7f3b",
   "metadata": {},
   "source": [
    "30. how do you store multiple types of data in a tuple ?"
   ]
  },
  {
   "cell_type": "code",
   "execution_count": 15,
   "id": "4765801b-3173-4c08-afd6-e927e34ebc43",
   "metadata": {},
   "outputs": [
    {
     "data": {
      "text/plain": [
       "(1, 'mohini', 2.8, True)"
      ]
     },
     "execution_count": 15,
     "metadata": {},
     "output_type": "execute_result"
    }
   ],
   "source": [
    "t = (1,'mohini',2.8,True)\n",
    "t"
   ]
  },
  {
   "cell_type": "markdown",
   "id": "84561088-94d9-45d3-86a5-9985b56061a6",
   "metadata": {},
   "source": [
    "# Coding questions"
   ]
  },
  {
   "cell_type": "markdown",
   "id": "3950232b-5d3a-489a-af71-ca620aa77bef",
   "metadata": {},
   "source": [
    "1. count the frequency of each word in a string"
   ]
  },
  {
   "cell_type": "code",
   "execution_count": 5,
   "id": "636ad475-a941-447f-ba9a-339db86ddefd",
   "metadata": {},
   "outputs": [
    {
     "name": "stdout",
     "output_type": "stream",
     "text": [
      "Counter({'my': 2, 'is': 2, 'name': 1, 'mohini': 1, 'and': 1, 'hometown': 1, 'pune': 1})\n"
     ]
    }
   ],
   "source": [
    "from collections import Counter\n",
    "import re\n",
    "\n",
    "string = 'my name is mohini and my hometown is pune'\n",
    "\n",
    "words = re.findall(r'\\b\\w+\\b',string.lower()) # will find all words in the string and converts them to lowercase\n",
    "# count frequency of each word\n",
    "freq = Counter(words)\n",
    "print(freq)"
   ]
  },
  {
   "cell_type": "markdown",
   "id": "acb97f3b-3089-4618-b2ce-c99e19be09e6",
   "metadata": {},
   "source": [
    "2. Flatten a nested list (e.g., [[1, 2], [3, 4]] → [1, 2, 3, 4])."
   ]
  },
  {
   "cell_type": "code",
   "execution_count": 8,
   "id": "10daac0d-d917-48de-9c9e-b5a0ddd3a1c1",
   "metadata": {},
   "outputs": [
    {
     "name": "stdout",
     "output_type": "stream",
     "text": [
      "[[1 2]\n",
      " [3 4]]\n"
     ]
    }
   ],
   "source": [
    "import numpy as np\n",
    "a = np.array([\n",
    "    [1,2],\n",
    "    [3,4]\n",
    "])\n",
    "print(a)"
   ]
  },
  {
   "cell_type": "code",
   "execution_count": 34,
   "id": "a975306e-067e-4e2c-b50f-deea25fa84c7",
   "metadata": {},
   "outputs": [
    {
     "data": {
      "text/plain": [
       "array([1, 2, 3, 4])"
      ]
     },
     "execution_count": 34,
     "metadata": {},
     "output_type": "execute_result"
    }
   ],
   "source": [
    "np.random.choice(a.flatten(),size = 4,replace=False)"
   ]
  },
  {
   "cell_type": "markdown",
   "id": "8ae4246e-a8c2-4ce3-a73b-714816dfa8d1",
   "metadata": {},
   "source": [
    "3. Rotate a list to the right by k positions."
   ]
  },
  {
   "cell_type": "code",
   "execution_count": 37,
   "id": "61a7e252-b86b-4742-9a1c-36691f3d5690",
   "metadata": {},
   "outputs": [
    {
     "name": "stdout",
     "output_type": "stream",
     "text": [
      "[11, 55, 22, 44]\n"
     ]
    }
   ],
   "source": [
    "def rotate_list(n,k):\n",
    "    k = k%len(n) # k should within a range in list length\n",
    "    return n[-k:]+n[:-k]\n",
    "    # n[-k:] - gets the last k elements\n",
    "    # n[:-k] gets all elements except the last k element\n",
    "\n",
    "n = [22,44,11,55]\n",
    "k = 2\n",
    "print(rotate_list(n,k))"
   ]
  },
  {
   "cell_type": "markdown",
   "id": "f31d2269-59fa-4bf1-9e23-786b88c93fce",
   "metadata": {},
   "source": [
    "4. Check if a list is a palindrome."
   ]
  },
  {
   "cell_type": "code",
   "execution_count": 11,
   "id": "a01b855b-831c-4dc8-bd20-716d536a5f02",
   "metadata": {},
   "outputs": [
    {
     "name": "stdout",
     "output_type": "stream",
     "text": [
      "True\n"
     ]
    }
   ],
   "source": [
    "def is_palindrome(l):\n",
    "    return l == l[::-1]\n",
    "\n",
    "l = [1,2,3,4,3,2,1]\n",
    "print(is_palindrome(l))"
   ]
  },
  {
   "cell_type": "markdown",
   "id": "cae42dbd-e93f-4b3b-84b8-e4c43b95442b",
   "metadata": {},
   "source": [
    "5. group even and odd numbers from a list into two seperate lists."
   ]
  },
  {
   "cell_type": "code",
   "execution_count": 5,
   "id": "2dc0e50b-21e6-4c4c-846b-8df06384c3dd",
   "metadata": {},
   "outputs": [
    {
     "name": "stdout",
     "output_type": "stream",
     "text": [
      "[22, 66]\n",
      "[3, 43, 45]\n"
     ]
    }
   ],
   "source": [
    "def even_odd(n):\n",
    "    # e for even\n",
    "    even = [num for num in n if num % 2 == 0]\n",
    "    # o for odd\n",
    "    odd = [num for num in n if num % 2!=0]\n",
    "    return even,odd\n",
    "\n",
    "n = [22,3,43,45,66]\n",
    "even, odd = even_odd(n)\n",
    "print(even)\n",
    "print(odd)"
   ]
  },
  {
   "cell_type": "markdown",
   "id": "988e57ae-94a3-4dcd-91ed-a151b2bca165",
   "metadata": {},
   "source": [
    "6. split a string into words and capitalize the first letter of each."
   ]
  },
  {
   "cell_type": "code",
   "execution_count": 13,
   "id": "7bc83b85-4e39-46aa-ba90-fb9a4a8d4afc",
   "metadata": {},
   "outputs": [
    {
     "name": "stdout",
     "output_type": "stream",
     "text": [
      "My Name Is Mohini\n"
     ]
    }
   ],
   "source": [
    "def str_cap(string):\n",
    "    return ' '.join(word.capitalize() for word in string.split())\n",
    "\n",
    "string = 'my name is mohini'\n",
    "print(str_cap(string))"
   ]
  },
  {
   "cell_type": "markdown",
   "id": "375fc177-9d4a-47bf-97f3-9aca1f0bf81b",
   "metadata": {},
   "source": [
    "7. Check if two sets have uncommon elements."
   ]
  },
  {
   "cell_type": "code",
   "execution_count": 20,
   "id": "b12d8a4b-bad1-478c-9440-b5d81413e554",
   "metadata": {},
   "outputs": [
    {
     "name": "stdout",
     "output_type": "stream",
     "text": [
      "False\n"
     ]
    }
   ],
   "source": [
    "def uncommon_elements(s1,s2):\n",
    "    return bool(s1.symmetric_difference(s2))\n",
    "\n",
    "s1 = {1,2,3,4}\n",
    "s2 = {4,2,3,1}\n",
    "print(uncommon_elements(s1,s2))"
   ]
  },
  {
   "cell_type": "markdown",
   "id": "2e9c4a24-78c6-45a5-a52d-12a58e18d47e",
   "metadata": {},
   "source": [
    "8. Make a calculator function that handles add, subtract, multiply, and divide using if statements.\n"
   ]
  },
  {
   "cell_type": "code",
   "execution_count": 25,
   "id": "b3f891cc-9e6c-45d0-be17-64803ff0b840",
   "metadata": {},
   "outputs": [
    {
     "name": "stdout",
     "output_type": "stream",
     "text": [
      "3\n",
      "-1\n",
      "2\n",
      "5.0\n"
     ]
    }
   ],
   "source": [
    "def calculator(n1,n2,operation):\n",
    "    if operation == 'addition':\n",
    "        return n1+n2\n",
    "    elif operation == 'subtraction':\n",
    "        return n1-n2\n",
    "    elif operation == 'multiplication':\n",
    "        return n1*n2\n",
    "    elif operation == 'division':\n",
    "        return n1/n2\n",
    "    else:\n",
    "        print('no operation')\n",
    "print(calculator(1,2,'addition'))\n",
    "print(calculator(1,2,'subtraction'))\n",
    "print(calculator(1,2,'multiplication'))\n",
    "print(calculator(10,2,'division'))"
   ]
  },
  {
   "cell_type": "markdown",
   "id": "11dfdb98-9b0d-4e91-ac09-046104be67a5",
   "metadata": {},
   "source": [
    "9. Create a function that returns the sum of squares of numbers in a list.\n"
   ]
  },
  {
   "cell_type": "code",
   "execution_count": 30,
   "id": "67eac720-412a-4af1-804f-a76fc9a936fb",
   "metadata": {},
   "outputs": [
    {
     "name": "stdout",
     "output_type": "stream",
     "text": [
      "55\n"
     ]
    }
   ],
   "source": [
    "def squares(nums):\n",
    "    return sum(num ** 2 for num in nums)\n",
    "nums = [1,2,3,4,5]\n",
    "print(squares(nums))"
   ]
  },
  {
   "cell_type": "markdown",
   "id": "6eed7960-9f3b-42f7-ab41-ef23edd71bd8",
   "metadata": {},
   "source": [
    "10. Convert a list of tuples to a dictionary.\n"
   ]
  },
  {
   "cell_type": "code",
   "execution_count": 33,
   "id": "542e33c8-5135-433c-ad38-34c8f033cffb",
   "metadata": {},
   "outputs": [
    {
     "name": "stdout",
     "output_type": "stream",
     "text": [
      "{'name': 'mohini', 'age': 21, 'lang': 'marathi'}\n"
     ]
    }
   ],
   "source": [
    "def list_dict(t):\n",
    "    return dict(t)\n",
    "t = [('name','mohini'),('age',21),('lang','marathi')]\n",
    "print(list_dict(t))"
   ]
  },
  {
   "cell_type": "markdown",
   "id": "bd11a0af-e6ad-4cee-af7b-0bcd3c4d2dcc",
   "metadata": {},
   "source": [
    "11. Count the number of unique characters in a string using a set.\n"
   ]
  },
  {
   "cell_type": "code",
   "execution_count": 36,
   "id": "cac1b85d-8d75-4363-8d42-7504897b0bae",
   "metadata": {},
   "outputs": [
    {
     "name": "stdout",
     "output_type": "stream",
     "text": [
      "13\n"
     ]
    }
   ],
   "source": [
    "def count_unique(string):\n",
    "    return len(set(string))\n",
    "string = 'hello guys i am mohini'\n",
    "print(count_unique(string))"
   ]
  },
  {
   "cell_type": "markdown",
   "id": "e5a5dc17-16bf-4abe-9980-10d5d3852c10",
   "metadata": {},
   "source": [
    "12. Reverse only the vowels in a string.\n"
   ]
  },
  {
   "cell_type": "code",
   "execution_count": 1,
   "id": "75e5b66e-3739-42e4-a9a2-f509c73c4b79",
   "metadata": {},
   "outputs": [
    {
     "name": "stdout",
     "output_type": "stream",
     "text": [
      "mihino\n"
     ]
    }
   ],
   "source": [
    "def reverse_vowels(s):\n",
    "    vowels = 'aeiouAEIOU'\n",
    "    s = list(s)\n",
    "    left, right = 0,len(s)-1\n",
    "    while left < right:\n",
    "        if s[left] not in vowels:\n",
    "            left += 1\n",
    "        elif s[right] not in vowels:\n",
    "            right -= 1\n",
    "        else:\n",
    "            s[left], s[right] = s[right],s[left]\n",
    "            left += 1\n",
    "            right -= 1\n",
    "    return ''.join(s)\n",
    "print(reverse_vowels('mohini'))"
   ]
  },
  {
   "cell_type": "code",
   "execution_count": 1,
   "id": "fcfcb44f-afff-4aa4-b404-bc2775c99d13",
   "metadata": {},
   "outputs": [
    {
     "name": "stdout",
     "output_type": "stream",
     "text": [
      "55\n"
     ]
    }
   ],
   "source": [
    "print('5'+'5')"
   ]
  },
  {
   "cell_type": "code",
   "execution_count": 3,
   "id": "343279dd-dd04-4e64-b25b-5a523b48ae81",
   "metadata": {},
   "outputs": [
    {
     "data": {
      "text/plain": [
       "range(1, 5)"
      ]
     },
     "execution_count": 3,
     "metadata": {},
     "output_type": "execute_result"
    }
   ],
   "source": [
    "range(1,5)"
   ]
  },
  {
   "cell_type": "code",
   "execution_count": null,
   "id": "bdfdf19d-671b-41db-bbd4-4461e35e38b9",
   "metadata": {},
   "outputs": [],
   "source": []
  },
  {
   "cell_type": "markdown",
   "id": "f5bb92fb-dea6-40b5-a6d4-856e1be45566",
   "metadata": {},
   "source": [
    "## Question and Answers - 2\n",
    "1. Difference between parameters and arguments.\n",
    "    - **parameters** are the variables defined in a function's signature that receive values when the function is called.\n",
    "    - **arguments** are the actual values passed to a function when it is calles.\n",
    "---------------------------------------------------------------------------------------------------------------------------------------------------------"
   ]
  },
  {
   "cell_type": "markdown",
   "id": "120a6de9-bb9c-4548-bdda-04a87bb8921e",
   "metadata": {},
   "source": [
    "2. Difference between module and package in python and how to import them\n",
    "    - **module** is a single python file that contains a collection of related functions, classes and variables.\n",
    "    - **package** is a directory containing multiple python modules and or subpackages.\n",
    "    - **Importing modules** - you can import a module using the import statement followed by the module name.\n",
    "    - **Importing package** - you can import a package using the import statement followed by the package name."
   ]
  },
  {
   "cell_type": "code",
   "execution_count": 16,
   "id": "064204a1-214a-4fe2-a93a-0e8dd08753a5",
   "metadata": {},
   "outputs": [],
   "source": [
    "# import module and module \n",
    "from collections import Counter"
   ]
  },
  {
   "cell_type": "markdown",
   "id": "5ab7537e-5d74-4537-9adb-698b01e84f91",
   "metadata": {},
   "source": [
    "---------------------------------------------------------------------------------------------------------------------------------------------------------\n",
    "3. Why are strings and tuple hashable but not lists ??\n",
    "    - **Why strings and tuples are hashable**\n",
    "        - **Immutability** - strings and tuples are immutable means their contents cannot be modified after creation.\n",
    "        - **Deterministic hash value** - the hash value of a string or tuple is determined by its content and the same contents will always produce the same hash value\n",
    "    - **Why lists are not hashable**\n",
    "        - **Mutability** - lists are mutable means their contents can be modified after creation this means their hash value need to change which is not allowed to hashable objects.\n",
    "        - **Unpredictable hash value** - because lists can change, its impossible to guarentee a consistent hash value.\n",
    "---------------------------------------------------------------------------------------------------------------------------------------------------------"
   ]
  },
  {
   "cell_type": "markdown",
   "id": "d91822ca-830b-40c8-9af4-9cd0e65b93cf",
   "metadata": {},
   "source": [
    "4. Explain dunder methods\n",
    "    - Dunder methods short for 'double underscore' **(__)** methods\n",
    "    - Common dunder methods :\n",
    "      1. **__ init __** - initializes an object when its created.\n",
    "      2. **__ str __** and **__ repr __** - return a string representation of an object.\n",
    "      3. **__ add __**,**__ sub __**,**__ mul __** - implement arithematic operations like addition,subtraction and multiplication.\n",
    "      4. **__ eq __**,**__ ne __**,**__ lt __** -  implement comparison operations like equality, inequality and less than.\n",
    "      5. **__ getitme __** and **__ setitem __** - implement indexing and assignment operations.\n",
    "      6. **__ len __** - returns the length of an object.\n",
    "---------------------------------------------------------------------------------------------------------------------------------------------------------"
   ]
  },
  {
   "cell_type": "markdown",
   "id": "b8fcd29e-7097-4a2b-8d3c-2cad979f850c",
   "metadata": {},
   "source": [
    "5. Difference between pop and remove.\n",
    "    - pop() removes an element at a specified index while remove() removes the first occurrence of a specified value\n",
    "    - pop() returns the removed element while remove() does not return removed element.\n",
    "---------------------------------------------------------------------------------------------------------------------------------------------------------"
   ]
  },
  {
   "cell_type": "markdown",
   "id": "6a76146d-75f9-4ef0-9a09-8ed5d18b3b45",
   "metadata": {},
   "source": [
    "6. Difference between pop and popitem.\n",
    "    - pop() removes an item by its key while popitem() removes last inserted element.\n",
    "    - popitem() returns the removed key_value item in dictionary.\n",
    "---------------------------------------------------------------------------------------------------------------------------------------------------------"
   ]
  },
  {
   "cell_type": "markdown",
   "id": "32299261-8c47-498b-995c-166f7b9a788a",
   "metadata": {},
   "source": [
    "7. What are 'truthy' and 'falsy' values? List at least five falsy ones.\n",
    "    - Truthy values are those that evaluate to **True** while falsy values evaluate to **False**\n",
    "    - Falsy values as follows:\n",
    "        - None - absence of a value\n",
    "        - False - boolean false value\n",
    "        - 0 - zero integer value\n",
    "        - 0.0 - zero floating-point value\n",
    "        - \"\"(empty string) - empty string with no characters.\n",
    "---------------------------------------------------------------------------------------------------------------------------------------------------------"
   ]
  },
  {
   "cell_type": "markdown",
   "id": "8140c042-f5f8-47b9-96ec-ea0fd9169bf7",
   "metadata": {},
   "source": [
    "8. How does multiple inheritance work, and what is the MRQ (method-resolution order) ??\n",
    "    - Multiple inheritance is a feature in python that allows a class to inherit  properties and methods from more than one parent class. This can be usefule for creating complex class hierarchies and reusing code."
   ]
  },
  {
   "cell_type": "code",
   "execution_count": 8,
   "id": "0a8176f0-7b6e-419e-bffb-e1f3c937ee42",
   "metadata": {},
   "outputs": [
    {
     "name": "stdout",
     "output_type": "stream",
     "text": [
      "Sounds of animals\n",
      "Mammal eats\n",
      "Dog is barking\n"
     ]
    }
   ],
   "source": [
    "class Animal:\n",
    "    def sound(self):\n",
    "        print('Sounds of animals')\n",
    "class Mammal(Animal):\n",
    "    def eat(self):\n",
    "        print('Mammal eats')\n",
    "class Dog(Mammal):\n",
    "    def bark(self):\n",
    "        print('Dog is barking')\n",
    "class Cat(Mammal):\n",
    "    def meow(self):\n",
    "        print('Cat meows')\n",
    "my_dog = Dog()\n",
    "my_dog.sound()\n",
    "my_dog.eat()\n",
    "my_dog.bark()"
   ]
  },
  {
   "cell_type": "markdown",
   "id": "a9fe7b9e-bdca-46d6-91a0-53090405ab4c",
   "metadata": {},
   "source": [
    "**Method Resolution order(MRQ)**\n",
    "- It is the order in which python searches for methods in a class hierarchy\n",
    "- **how MRQ works**\n",
    "    1. Depth-first search\n",
    "    2. left-to-right order\n",
    "    3. no dplicates    \n",
    "\n",
    "---------------------------------------------------------------------------------------------------------------------------------------------------------\n",
    "9. Explain virtual environments(venv/virtualenv) and why they are indispensable.\n",
    "    - **Virtual Environment** is a directory that contains a python interpreter and a set of packages. It's a self-contained environment that allows you to install packages and dependancies without affecting the global python environment.\n",
    "    - **venv** vs **virtualenv**\n",
    "        1. venv is a built-in module in python 3.3 and later that allows you to create virtual environment.\n",
    "        2. virtualenv is a third-party package that provides similar functionality to venv. It's compatible with python 2.x and 3.x.\n",
    "    - Virtual environments are indispensable in python development because they provide a flexible, reproducible and isolated environment for your projects. By using this you can ensure that your projects are consistent,efficient and easy to manage.\n",
    "---------------------------------------------------------------------------------------------------------------------------------------------------------"
   ]
  },
  {
   "cell_type": "markdown",
   "id": "4d92a538-43c5-4a74-99c4-d3a7dd728e82",
   "metadata": {},
   "source": [
    "10. How do namespaces packages differ from regular packages?\n",
    "    - **Regular packages**\n",
    "        1.  a regular package is a directory that contains an __ init __.py file\n",
    "        2.  a regular package is treated as a single entity\n",
    "        3.  a regular package defines its own namespace.\n",
    "    - **Namespaces packages**\n",
    "        1. a  namespace package can span multiple directories, allowing you to distribute a package across multiple locations.\n",
    "        2. a namespace package shares its namespace with other packages.\n",
    "---------------------------------------------------------------------------------------------------------------------------------------------------------"
   ]
  },
  {
   "cell_type": "markdown",
   "id": "fa929379-100e-4b55-9ae8-afb9b5cccfa5",
   "metadata": {},
   "source": [
    "11. What happens if you modify a dictionary while iterating over it? show a safe workaround.\n",
    "    - when you modify a dictionary while iterating over it, you may encounter a RunTimeError exception with a message like 'dictionary changed size during iteration'\n",
    "      "
   ]
  },
  {
   "cell_type": "code",
   "execution_count": 5,
   "id": "842d3311-37b3-4d7c-9006-db1c3b018ad3",
   "metadata": {},
   "outputs": [
    {
     "ename": "RuntimeError",
     "evalue": "dictionary changed size during iteration",
     "output_type": "error",
     "traceback": [
      "\u001b[1;31m---------------------------------------------------------------------------\u001b[0m",
      "\u001b[1;31mRuntimeError\u001b[0m                              Traceback (most recent call last)",
      "Cell \u001b[1;32mIn[5], line 2\u001b[0m\n\u001b[0;32m      1\u001b[0m my_dict \u001b[38;5;241m=\u001b[39m {\u001b[38;5;124m'\u001b[39m\u001b[38;5;124ma\u001b[39m\u001b[38;5;124m'\u001b[39m:\u001b[38;5;241m1\u001b[39m,\u001b[38;5;124m'\u001b[39m\u001b[38;5;124mb\u001b[39m\u001b[38;5;124m'\u001b[39m:\u001b[38;5;241m20\u001b[39m}\n\u001b[1;32m----> 2\u001b[0m \u001b[38;5;28;01mfor\u001b[39;00m key \u001b[38;5;129;01min\u001b[39;00m my_dict:\n\u001b[0;32m      3\u001b[0m     \u001b[38;5;28;01mif\u001b[39;00m key \u001b[38;5;241m==\u001b[39m \u001b[38;5;124m'\u001b[39m\u001b[38;5;124mb\u001b[39m\u001b[38;5;124m'\u001b[39m:\n\u001b[0;32m      4\u001b[0m         \u001b[38;5;28;01mdel\u001b[39;00m my_dict[key]\n",
      "\u001b[1;31mRuntimeError\u001b[0m: dictionary changed size during iteration"
     ]
    }
   ],
   "source": [
    "my_dict = {'a':1,'b':20}\n",
    "for key in my_dict:\n",
    "    if key == 'b':\n",
    "        del my_dict[key]"
   ]
  },
  {
   "cell_type": "markdown",
   "id": "c9ec4359-4a6a-401c-b190-a1fac3268364",
   "metadata": {},
   "source": [
    "- To safely modify a dictionary while ierating over it you can create copy"
   ]
  },
  {
   "cell_type": "code",
   "execution_count": 11,
   "id": "331ffb61-aab6-4deb-8907-9f456595ec4d",
   "metadata": {},
   "outputs": [
    {
     "name": "stdout",
     "output_type": "stream",
     "text": [
      "{'a': 1}\n"
     ]
    }
   ],
   "source": [
    "my_dict = {'a':1,'b':20}\n",
    "for key in list(my_dict.keys()):\n",
    "    if key == 'b':\n",
    "        del my_dict[key]\n",
    "print(my_dict)"
   ]
  },
  {
   "cell_type": "markdown",
   "id": "3962de38-6103-4984-bc52-810f23e54ec9",
   "metadata": {},
   "source": [
    "\n",
    "---------------------------------------------------------------------------------------------------------------------------------------------------------\n",
    "12. How does else work with loops in python ??\n",
    "    - the else clause is executed when the loop completes normally that is without encountering a break statement.\n",
    "    - If the loop encounters a break statement the else clause is skipped."
   ]
  },
  {
   "cell_type": "code",
   "execution_count": 14,
   "id": "433efead-1ba2-4202-9e89-90c7dd6697dd",
   "metadata": {},
   "outputs": [
    {
     "name": "stdout",
     "output_type": "stream",
     "text": [
      "0\n",
      "1\n",
      "2\n",
      "3\n",
      "4\n",
      "loop is completed\n"
     ]
    }
   ],
   "source": [
    "for i in range(5):\n",
    "    print(i)\n",
    "else:\n",
    "    print('loop is completed')"
   ]
  },
  {
   "cell_type": "markdown",
   "id": "f288da78-b369-40ff-b0c1-e4a029b70e1a",
   "metadata": {},
   "source": [
    "---------------------------------------------------------------------------------------------------------------------------------------------------------\n",
    "13. Explain zip() function in python ?? \n",
    "    - The zip() function is a built-in function that takes iterables (such as lists,tuples or strings) as input and returns an iterator of tuples where the first item in each passed iterator is paired together, and then the second item in each passed iterator are paired together."
   ]
  },
  {
   "cell_type": "code",
   "execution_count": 17,
   "id": "1d93b80c-3f80-4a93-abac-c496521cc451",
   "metadata": {},
   "outputs": [
    {
     "name": "stdout",
     "output_type": "stream",
     "text": [
      "[('l', 'l'), ('1', '2')]\n"
     ]
    }
   ],
   "source": [
    "l1 = [1,2,3]\n",
    "l2 = ['a','b','c']\n",
    "zipped = zip('l1','l2')\n",
    "print(list(zipped))"
   ]
  },
  {
   "cell_type": "markdown",
   "id": "bc299bfc-fbf8-4913-8428-8c21698a1bf1",
   "metadata": {},
   "source": [
    "---------------------------------------------------------------------------------------------------------------------------------------------------------\n",
    "14. What are the paradigams python work on ?\n",
    "    1. Imperative programming\n",
    "    2. object-oriented programming\n",
    "    3. functional programming\n",
    "    4. scrpting\n",
    "---------------------------------------------------------------------------------------------------------------------------------------------------------"
   ]
  },
  {
   "cell_type": "markdown",
   "id": "3d411e02-2c4d-488d-9dca-ed891199d45d",
   "metadata": {},
   "source": [
    "15. How can you raise a custom exception in python ?\n"
   ]
  },
  {
   "cell_type": "raw",
   "id": "5ac9726d-4197-4273-a8fe-b780f0b2ca6a",
   "metadata": {},
   "source": [
    "class CustomException(Exception):\n",
    "    pass\n",
    "raise CustomException('error')"
   ]
  },
  {
   "cell_type": "markdown",
   "id": "105cd818-1644-4ef6-8663-788208af23f2",
   "metadata": {},
   "source": [
    "---------------------------------------------------------------------------------------------------------------------------------------------------------\n",
    "16. Difference between yield and return.\n",
    "    1. Function Execution: return terminates function execution, while yield suspends it.\n",
    "    2. Value Return: Both return and yield return values, but yield allows for multiple values to be returned.\n",
    "    3. Use Cases: return is typically used for functions that need to return a single value, while yield is used for generators and iterators that need to produce multiple values.\n"
   ]
  },
  {
   "cell_type": "code",
   "execution_count": null,
   "id": "f151fcae-ed05-44cf-ad1d-a3c91baa2f17",
   "metadata": {},
   "outputs": [],
   "source": []
  }
 ],
 "metadata": {
  "kernelspec": {
   "display_name": "Python 3 (ipykernel)",
   "language": "python",
   "name": "python3"
  },
  "language_info": {
   "codemirror_mode": {
    "name": "ipython",
    "version": 3
   },
   "file_extension": ".py",
   "mimetype": "text/x-python",
   "name": "python",
   "nbconvert_exporter": "python",
   "pygments_lexer": "ipython3",
   "version": "3.12.4"
  }
 },
 "nbformat": 4,
 "nbformat_minor": 5
}
